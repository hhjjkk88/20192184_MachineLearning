{
 "cells": [
  {
   "cell_type": "code",
   "execution_count": 20,
   "id": "de1b51e2",
   "metadata": {},
   "outputs": [],
   "source": [
    "import pandas as pd\n",
    "from sklearn.model_selection import train_test_split\n",
    "from sklearn.linear_model import LogisticRegression\n",
    "from sklearn.metrics import accuracy_score"
   ]
  },
  {
   "cell_type": "code",
   "execution_count": 144,
   "id": "c020cfa3",
   "metadata": {},
   "outputs": [],
   "source": [
    "train_data1 = pd.read_csv('train_data/train_task_1_2.csv')\n",
    "val_data1 = pd.read_csv('test_data/test_public_answers_task_1.csv')\n",
    "test_data1 = pd.read_csv('test_data/test_private_answers_task_1.csv')\n",
    "m_data_a1 = pd.read_csv('metadata/answer_metadata_task_1_2.csv')\n",
    "m_data_q1 = pd.read_csv('metadata/question_metadata_task_1_2.csv')\n",
    "m_data_s1 = pd.read_csv('metadata/student_metadata_task_1_2.csv')\n"
   ]
  },
  {
   "cell_type": "code",
   "execution_count": 146,
   "id": "3ae0079c",
   "metadata": {},
   "outputs": [
    {
     "data": {
      "text/html": [
       "<div>\n",
       "<style scoped>\n",
       "    .dataframe tbody tr th:only-of-type {\n",
       "        vertical-align: middle;\n",
       "    }\n",
       "\n",
       "    .dataframe tbody tr th {\n",
       "        vertical-align: top;\n",
       "    }\n",
       "\n",
       "    .dataframe thead th {\n",
       "        text-align: right;\n",
       "    }\n",
       "</style>\n",
       "<table border=\"1\" class=\"dataframe\">\n",
       "  <thead>\n",
       "    <tr style=\"text-align: right;\">\n",
       "      <th></th>\n",
       "      <th>QuestionId</th>\n",
       "      <th>UserId</th>\n",
       "      <th>AnswerId</th>\n",
       "      <th>IsCorrect</th>\n",
       "      <th>CorrectAnswer</th>\n",
       "      <th>AnswerValue</th>\n",
       "    </tr>\n",
       "  </thead>\n",
       "  <tbody>\n",
       "    <tr>\n",
       "      <th>0</th>\n",
       "      <td>16997</td>\n",
       "      <td>65967</td>\n",
       "      <td>12453206</td>\n",
       "      <td>0</td>\n",
       "      <td>4</td>\n",
       "      <td>2</td>\n",
       "    </tr>\n",
       "    <tr>\n",
       "      <th>1</th>\n",
       "      <td>16531</td>\n",
       "      <td>62121</td>\n",
       "      <td>15686710</td>\n",
       "      <td>1</td>\n",
       "      <td>1</td>\n",
       "      <td>1</td>\n",
       "    </tr>\n",
       "    <tr>\n",
       "      <th>2</th>\n",
       "      <td>15911</td>\n",
       "      <td>50013</td>\n",
       "      <td>13598796</td>\n",
       "      <td>0</td>\n",
       "      <td>3</td>\n",
       "      <td>1</td>\n",
       "    </tr>\n",
       "    <tr>\n",
       "      <th>3</th>\n",
       "      <td>1701</td>\n",
       "      <td>104909</td>\n",
       "      <td>10511925</td>\n",
       "      <td>0</td>\n",
       "      <td>4</td>\n",
       "      <td>3</td>\n",
       "    </tr>\n",
       "    <tr>\n",
       "      <th>4</th>\n",
       "      <td>22896</td>\n",
       "      <td>21748</td>\n",
       "      <td>941747</td>\n",
       "      <td>0</td>\n",
       "      <td>1</td>\n",
       "      <td>4</td>\n",
       "    </tr>\n",
       "  </tbody>\n",
       "</table>\n",
       "</div>"
      ],
      "text/plain": [
       "   QuestionId  UserId  AnswerId  IsCorrect  CorrectAnswer  AnswerValue\n",
       "0       16997   65967  12453206          0              4            2\n",
       "1       16531   62121  15686710          1              1            1\n",
       "2       15911   50013  13598796          0              3            1\n",
       "3        1701  104909  10511925          0              4            3\n",
       "4       22896   21748    941747          0              1            4"
      ]
     },
     "execution_count": 146,
     "metadata": {},
     "output_type": "execute_result"
    }
   ],
   "source": [
    "train_data1.head()"
   ]
  },
  {
   "cell_type": "code",
   "execution_count": 147,
   "id": "87c2f796",
   "metadata": {
    "scrolled": true
   },
   "outputs": [
    {
     "name": "stdout",
     "output_type": "stream",
     "text": [
      "<class 'pandas.core.frame.DataFrame'>\n",
      "RangeIndex: 15867850 entries, 0 to 15867849\n",
      "Data columns (total 6 columns):\n",
      " #   Column         Dtype\n",
      "---  ------         -----\n",
      " 0   QuestionId     int64\n",
      " 1   UserId         int64\n",
      " 2   AnswerId       int64\n",
      " 3   IsCorrect      int64\n",
      " 4   CorrectAnswer  int64\n",
      " 5   AnswerValue    int64\n",
      "dtypes: int64(6)\n",
      "memory usage: 726.4 MB\n"
     ]
    }
   ],
   "source": [
    "train_data1.info()"
   ]
  },
  {
   "cell_type": "code",
   "execution_count": 148,
   "id": "e01a7fcb",
   "metadata": {},
   "outputs": [
    {
     "data": {
      "text/html": [
       "<div>\n",
       "<style scoped>\n",
       "    .dataframe tbody tr th:only-of-type {\n",
       "        vertical-align: middle;\n",
       "    }\n",
       "\n",
       "    .dataframe tbody tr th {\n",
       "        vertical-align: top;\n",
       "    }\n",
       "\n",
       "    .dataframe thead th {\n",
       "        text-align: right;\n",
       "    }\n",
       "</style>\n",
       "<table border=\"1\" class=\"dataframe\">\n",
       "  <thead>\n",
       "    <tr style=\"text-align: right;\">\n",
       "      <th></th>\n",
       "      <th>QuestionId</th>\n",
       "      <th>UserId</th>\n",
       "      <th>AnswerId</th>\n",
       "      <th>IsCorrect</th>\n",
       "      <th>CorrectAnswer</th>\n",
       "      <th>AnswerValue</th>\n",
       "    </tr>\n",
       "  </thead>\n",
       "  <tbody>\n",
       "    <tr>\n",
       "      <th>QuestionId</th>\n",
       "      <td>1.000000</td>\n",
       "      <td>-0.000170</td>\n",
       "      <td>-0.000150</td>\n",
       "      <td>0.000642</td>\n",
       "      <td>0.008882</td>\n",
       "      <td>0.001107</td>\n",
       "    </tr>\n",
       "    <tr>\n",
       "      <th>UserId</th>\n",
       "      <td>-0.000170</td>\n",
       "      <td>1.000000</td>\n",
       "      <td>-0.000060</td>\n",
       "      <td>0.002105</td>\n",
       "      <td>-0.000090</td>\n",
       "      <td>0.000228</td>\n",
       "    </tr>\n",
       "    <tr>\n",
       "      <th>AnswerId</th>\n",
       "      <td>-0.000150</td>\n",
       "      <td>-0.000060</td>\n",
       "      <td>1.000000</td>\n",
       "      <td>-0.000450</td>\n",
       "      <td>0.000100</td>\n",
       "      <td>-0.000011</td>\n",
       "    </tr>\n",
       "    <tr>\n",
       "      <th>IsCorrect</th>\n",
       "      <td>0.000642</td>\n",
       "      <td>0.002105</td>\n",
       "      <td>-0.000450</td>\n",
       "      <td>1.000000</td>\n",
       "      <td>-0.010002</td>\n",
       "      <td>0.006604</td>\n",
       "    </tr>\n",
       "    <tr>\n",
       "      <th>CorrectAnswer</th>\n",
       "      <td>0.008882</td>\n",
       "      <td>-0.000090</td>\n",
       "      <td>0.000100</td>\n",
       "      <td>-0.010002</td>\n",
       "      <td>1.000000</td>\n",
       "      <td>0.528478</td>\n",
       "    </tr>\n",
       "    <tr>\n",
       "      <th>AnswerValue</th>\n",
       "      <td>0.001107</td>\n",
       "      <td>0.000228</td>\n",
       "      <td>-0.000011</td>\n",
       "      <td>0.006604</td>\n",
       "      <td>0.528478</td>\n",
       "      <td>1.000000</td>\n",
       "    </tr>\n",
       "  </tbody>\n",
       "</table>\n",
       "</div>"
      ],
      "text/plain": [
       "               QuestionId    UserId  AnswerId  IsCorrect  CorrectAnswer  \\\n",
       "QuestionId       1.000000 -0.000170 -0.000150   0.000642       0.008882   \n",
       "UserId          -0.000170  1.000000 -0.000060   0.002105      -0.000090   \n",
       "AnswerId        -0.000150 -0.000060  1.000000  -0.000450       0.000100   \n",
       "IsCorrect        0.000642  0.002105 -0.000450   1.000000      -0.010002   \n",
       "CorrectAnswer    0.008882 -0.000090  0.000100  -0.010002       1.000000   \n",
       "AnswerValue      0.001107  0.000228 -0.000011   0.006604       0.528478   \n",
       "\n",
       "               AnswerValue  \n",
       "QuestionId        0.001107  \n",
       "UserId            0.000228  \n",
       "AnswerId         -0.000011  \n",
       "IsCorrect         0.006604  \n",
       "CorrectAnswer     0.528478  \n",
       "AnswerValue       1.000000  "
      ]
     },
     "execution_count": 148,
     "metadata": {},
     "output_type": "execute_result"
    }
   ],
   "source": [
    "correlation_matrix = train_data1.corr()\n",
    "correlation_with_target = correlation_matrix['IsCorrect'].sort_values(ascending=False)\n",
    "correlation_matrix"
   ]
  },
  {
   "cell_type": "code",
   "execution_count": 150,
   "id": "e6b22608",
   "metadata": {},
   "outputs": [
    {
     "data": {
      "text/plain": [
       "Index(['QuestionId', 'UserId', 'AnswerId', 'IsCorrect', 'CorrectAnswer',\n",
       "       'AnswerValue'],\n",
       "      dtype='object')"
      ]
     },
     "execution_count": 150,
     "metadata": {},
     "output_type": "execute_result"
    }
   ],
   "source": [
    "train_data1.columns"
   ]
  },
  {
   "cell_type": "code",
   "execution_count": 151,
   "id": "933f43f2",
   "metadata": {},
   "outputs": [],
   "source": [
    "X = train_data1.drop(['IsCorrect','AnswerValue','CorrectAnswer'],axis=1)\n",
    "y = train_data1['IsCorrect']\n",
    "X_test = test_data1.drop(['IsCorrect'],axis=1)\n",
    "y_test = test_data1['IsCorrect']"
   ]
  },
  {
   "cell_type": "code",
   "execution_count": 54,
   "id": "ef05e122",
   "metadata": {},
   "outputs": [],
   "source": [
    "from sklearn.ensemble import GradientBoostingRegressor\n",
    "from sklearn.model_selection import GridSearchCV\n",
    "from xgboost import XGBRegressor\n",
    "from lightgbm import LGBMRegressor, LGBMClassifier, Booster\n",
    "import xgboost as xgb\n",
    "import lightgbm as lgb\n",
    "from sklearn.model_selection import KFold, cross_val_score, train_test_split\n",
    "from sklearn.linear_model import LinearRegression, Ridge, Lasso, ElasticNet, PoissonRegressor\n",
    "from sklearn.pipeline import make_pipeline\n",
    "from sklearn.preprocessing import RobustScaler\n",
    "from sklearn.ensemble import RandomForestRegressor\n",
    "from sklearn.metrics import mean_absolute_error, mean_squared_error, r2_score"
   ]
  },
  {
   "cell_type": "code",
   "execution_count": 27,
   "id": "f4d0d90f",
   "metadata": {},
   "outputs": [
    {
     "data": {
      "text/plain": [
       "RandomForestRegressor(random_state=42)"
      ]
     },
     "execution_count": 27,
     "metadata": {},
     "output_type": "execute_result"
    }
   ],
   "source": [
    "rf = RandomForestRegressor(random_state=42)\n",
    "rf.fit(X,y)"
   ]
  },
  {
   "cell_type": "code",
   "execution_count": 55,
   "id": "883609c5",
   "metadata": {},
   "outputs": [
    {
     "data": {
      "text/plain": [
       "LogisticRegression()"
      ]
     },
     "execution_count": 55,
     "metadata": {},
     "output_type": "execute_result"
    }
   ],
   "source": [
    "model=LogisticRegression()\n",
    "model.fit(X,y)"
   ]
  },
  {
   "cell_type": "code",
   "execution_count": 153,
   "id": "b92e491e",
   "metadata": {},
   "outputs": [],
   "source": [
    "X_val = data2.drop(['IsCorrect'],axis=1)"
   ]
  },
  {
   "cell_type": "code",
   "execution_count": 154,
   "id": "cc13b797",
   "metadata": {},
   "outputs": [],
   "source": [
    "y_pred_val = model.predict(X_val)"
   ]
  },
  {
   "cell_type": "code",
   "execution_count": 155,
   "id": "aabfc61b",
   "metadata": {},
   "outputs": [
    {
     "name": "stdout",
     "output_type": "stream",
     "text": [
      "Validation Accuracy: 0.606702559792607\n"
     ]
    }
   ],
   "source": [
    "accuracy_val = accuracy_score(y_val, y_pred_val)\n",
    "print(\"Validation Accuracy:\", accuracy_val)"
   ]
  },
  {
   "cell_type": "code",
   "execution_count": 59,
   "id": "02ed4c62",
   "metadata": {},
   "outputs": [],
   "source": [
    "y_test_pred = model.predict(X_test)"
   ]
  },
  {
   "cell_type": "code",
   "execution_count": 62,
   "id": "2ae3fc75",
   "metadata": {},
   "outputs": [
    {
     "data": {
      "text/plain": [
       "array([1, 1, 1, ..., 1, 1, 1], dtype=int64)"
      ]
     },
     "execution_count": 62,
     "metadata": {},
     "output_type": "execute_result"
    }
   ],
   "source": [
    "y_test_pred"
   ]
  },
  {
   "cell_type": "code",
   "execution_count": 64,
   "id": "9e754fc8",
   "metadata": {},
   "outputs": [],
   "source": [
    "from sklearn.tree import DecisionTreeClassifier"
   ]
  },
  {
   "cell_type": "code",
   "execution_count": 66,
   "id": "749548ef",
   "metadata": {},
   "outputs": [],
   "source": [
    "#train_data2 = pd.read_csv('train_data/train_task_1_2.csv')"
   ]
  },
  {
   "cell_type": "code",
   "execution_count": 68,
   "id": "281dc92b",
   "metadata": {},
   "outputs": [],
   "source": [
    "public_data2 = pd.read_csv('test_data/test_public_answers_task_2.csv')\n",
    "test_data2 = pd.read_csv('test_data/test_private_answers_task_2.csv')"
   ]
  },
  {
   "cell_type": "code",
   "execution_count": 156,
   "id": "b76b0b76",
   "metadata": {},
   "outputs": [
    {
     "data": {
      "text/html": [
       "<div>\n",
       "<style scoped>\n",
       "    .dataframe tbody tr th:only-of-type {\n",
       "        vertical-align: middle;\n",
       "    }\n",
       "\n",
       "    .dataframe tbody tr th {\n",
       "        vertical-align: top;\n",
       "    }\n",
       "\n",
       "    .dataframe thead th {\n",
       "        text-align: right;\n",
       "    }\n",
       "</style>\n",
       "<table border=\"1\" class=\"dataframe\">\n",
       "  <thead>\n",
       "    <tr style=\"text-align: right;\">\n",
       "      <th></th>\n",
       "      <th>QuestionId</th>\n",
       "      <th>UserId</th>\n",
       "      <th>AnswerId</th>\n",
       "      <th>IsCorrect</th>\n",
       "      <th>CorrectAnswer</th>\n",
       "      <th>AnswerValue</th>\n",
       "    </tr>\n",
       "  </thead>\n",
       "  <tbody>\n",
       "    <tr>\n",
       "      <th>0</th>\n",
       "      <td>16997</td>\n",
       "      <td>65967</td>\n",
       "      <td>12453206</td>\n",
       "      <td>0</td>\n",
       "      <td>4</td>\n",
       "      <td>2</td>\n",
       "    </tr>\n",
       "    <tr>\n",
       "      <th>1</th>\n",
       "      <td>16531</td>\n",
       "      <td>62121</td>\n",
       "      <td>15686710</td>\n",
       "      <td>1</td>\n",
       "      <td>1</td>\n",
       "      <td>1</td>\n",
       "    </tr>\n",
       "    <tr>\n",
       "      <th>2</th>\n",
       "      <td>15911</td>\n",
       "      <td>50013</td>\n",
       "      <td>13598796</td>\n",
       "      <td>0</td>\n",
       "      <td>3</td>\n",
       "      <td>1</td>\n",
       "    </tr>\n",
       "    <tr>\n",
       "      <th>3</th>\n",
       "      <td>1701</td>\n",
       "      <td>104909</td>\n",
       "      <td>10511925</td>\n",
       "      <td>0</td>\n",
       "      <td>4</td>\n",
       "      <td>3</td>\n",
       "    </tr>\n",
       "    <tr>\n",
       "      <th>4</th>\n",
       "      <td>22896</td>\n",
       "      <td>21748</td>\n",
       "      <td>941747</td>\n",
       "      <td>0</td>\n",
       "      <td>1</td>\n",
       "      <td>4</td>\n",
       "    </tr>\n",
       "  </tbody>\n",
       "</table>\n",
       "</div>"
      ],
      "text/plain": [
       "   QuestionId  UserId  AnswerId  IsCorrect  CorrectAnswer  AnswerValue\n",
       "0       16997   65967  12453206          0              4            2\n",
       "1       16531   62121  15686710          1              1            1\n",
       "2       15911   50013  13598796          0              3            1\n",
       "3        1701  104909  10511925          0              4            3\n",
       "4       22896   21748    941747          0              1            4"
      ]
     },
     "execution_count": 156,
     "metadata": {},
     "output_type": "execute_result"
    }
   ],
   "source": [
    "train_data1.head()"
   ]
  },
  {
   "cell_type": "code",
   "execution_count": 70,
   "id": "79846722",
   "metadata": {},
   "outputs": [
    {
     "data": {
      "text/html": [
       "<div>\n",
       "<style scoped>\n",
       "    .dataframe tbody tr th:only-of-type {\n",
       "        vertical-align: middle;\n",
       "    }\n",
       "\n",
       "    .dataframe tbody tr th {\n",
       "        vertical-align: top;\n",
       "    }\n",
       "\n",
       "    .dataframe thead th {\n",
       "        text-align: right;\n",
       "    }\n",
       "</style>\n",
       "<table border=\"1\" class=\"dataframe\">\n",
       "  <thead>\n",
       "    <tr style=\"text-align: right;\">\n",
       "      <th></th>\n",
       "      <th>QuestionId</th>\n",
       "      <th>UserId</th>\n",
       "      <th>AnswerId</th>\n",
       "      <th>AnswerValue</th>\n",
       "    </tr>\n",
       "  </thead>\n",
       "  <tbody>\n",
       "    <tr>\n",
       "      <th>0</th>\n",
       "      <td>10856</td>\n",
       "      <td>5518</td>\n",
       "      <td>1127409</td>\n",
       "      <td>1</td>\n",
       "    </tr>\n",
       "    <tr>\n",
       "      <th>1</th>\n",
       "      <td>14766</td>\n",
       "      <td>41565</td>\n",
       "      <td>19673056</td>\n",
       "      <td>4</td>\n",
       "    </tr>\n",
       "    <tr>\n",
       "      <th>2</th>\n",
       "      <td>2829</td>\n",
       "      <td>97267</td>\n",
       "      <td>19426951</td>\n",
       "      <td>4</td>\n",
       "    </tr>\n",
       "    <tr>\n",
       "      <th>3</th>\n",
       "      <td>26464</td>\n",
       "      <td>100879</td>\n",
       "      <td>4929721</td>\n",
       "      <td>2</td>\n",
       "    </tr>\n",
       "    <tr>\n",
       "      <th>4</th>\n",
       "      <td>24436</td>\n",
       "      <td>87722</td>\n",
       "      <td>2927607</td>\n",
       "      <td>3</td>\n",
       "    </tr>\n",
       "  </tbody>\n",
       "</table>\n",
       "</div>"
      ],
      "text/plain": [
       "   QuestionId  UserId  AnswerId  AnswerValue\n",
       "0       10856    5518   1127409            1\n",
       "1       14766   41565  19673056            4\n",
       "2        2829   97267  19426951            4\n",
       "3       26464  100879   4929721            2\n",
       "4       24436   87722   2927607            3"
      ]
     },
     "execution_count": 70,
     "metadata": {},
     "output_type": "execute_result"
    }
   ],
   "source": [
    "public_data2.head()"
   ]
  },
  {
   "cell_type": "code",
   "execution_count": 157,
   "id": "0e2a91f9",
   "metadata": {},
   "outputs": [],
   "source": [
    "X_train2 = train_data1[['QuestionId', 'UserId', 'AnswerId']] \n",
    "y_train2 = train_data1['AnswerValue']"
   ]
  },
  {
   "cell_type": "code",
   "execution_count": 158,
   "id": "92654c9d",
   "metadata": {},
   "outputs": [],
   "source": [
    "model = DecisionTreeClassifier()"
   ]
  },
  {
   "cell_type": "code",
   "execution_count": 159,
   "id": "04690741",
   "metadata": {},
   "outputs": [
    {
     "data": {
      "text/plain": [
       "DecisionTreeClassifier()"
      ]
     },
     "execution_count": 159,
     "metadata": {},
     "output_type": "execute_result"
    }
   ],
   "source": [
    "model.fit(X_train2, y_train2)"
   ]
  },
  {
   "cell_type": "code",
   "execution_count": 160,
   "id": "4eb15e46",
   "metadata": {},
   "outputs": [],
   "source": [
    "X_val2 = public_data2[['QuestionId', 'UserId', 'AnswerId']]\n",
    "y_val_pred2 = model.predict(X_val)"
   ]
  },
  {
   "cell_type": "code",
   "execution_count": 161,
   "id": "4a5aef95",
   "metadata": {},
   "outputs": [],
   "source": [
    "X_test2 = test_data2[['QuestionId', 'UserId', 'AnswerId']]\n",
    "y_test_pred2 = model.predict(X_test2)"
   ]
  },
  {
   "cell_type": "code",
   "execution_count": 162,
   "id": "5a6eca81",
   "metadata": {},
   "outputs": [
    {
     "name": "stdout",
     "output_type": "stream",
     "text": [
      "Validation Predictions:\n",
      "[1 4 3 ... 3 2 2]\n"
     ]
    }
   ],
   "source": [
    "print(\"Validation Predictions:\")\n",
    "print(y_val_pred2)"
   ]
  },
  {
   "cell_type": "code",
   "execution_count": 163,
   "id": "57acb766",
   "metadata": {},
   "outputs": [
    {
     "name": "stdout",
     "output_type": "stream",
     "text": [
      "Test Predictions:\n",
      "[4 1 1 ... 1 4 3]\n"
     ]
    }
   ],
   "source": [
    "print(\"Test Predictions:\")\n",
    "print(y_test_pred2)"
   ]
  },
  {
   "cell_type": "code",
   "execution_count": 165,
   "id": "07efed0e",
   "metadata": {},
   "outputs": [
    {
     "data": {
      "text/html": [
       "<div>\n",
       "<style scoped>\n",
       "    .dataframe tbody tr th:only-of-type {\n",
       "        vertical-align: middle;\n",
       "    }\n",
       "\n",
       "    .dataframe tbody tr th {\n",
       "        vertical-align: top;\n",
       "    }\n",
       "\n",
       "    .dataframe thead th {\n",
       "        text-align: right;\n",
       "    }\n",
       "</style>\n",
       "<table border=\"1\" class=\"dataframe\">\n",
       "  <thead>\n",
       "    <tr style=\"text-align: right;\">\n",
       "      <th></th>\n",
       "      <th>model#2</th>\n",
       "    </tr>\n",
       "  </thead>\n",
       "  <tbody>\n",
       "    <tr>\n",
       "      <th>MAE</th>\n",
       "      <td>0.827883</td>\n",
       "    </tr>\n",
       "    <tr>\n",
       "      <th>MSE</th>\n",
       "      <td>1.614537</td>\n",
       "    </tr>\n",
       "    <tr>\n",
       "      <th>R2</th>\n",
       "      <td>-0.346474</td>\n",
       "    </tr>\n",
       "  </tbody>\n",
       "</table>\n",
       "</div>"
      ],
      "text/plain": [
       "      model#2\n",
       "MAE  0.827883\n",
       "MSE  1.614537\n",
       "R2  -0.346474"
      ]
     },
     "execution_count": 165,
     "metadata": {},
     "output_type": "execute_result"
    }
   ],
   "source": [
    "from sklearn.metrics import mean_absolute_error, mean_squared_error, r2_score\n",
    "y_test2 = test_data2['AnswerValue']\n",
    "MAE = mean_absolute_error(y_test2, y_test_pred2)\n",
    "MSE = mean_squared_error(y_test2, y_test_pred2)\n",
    "R2 = r2_score(y_test2, y_test_pred2)\n",
    "score = pd.DataFrame({\"model#2\" : [MAE, MSE, R2]}, index = ['MAE', 'MSE', 'R2'])\n",
    "score"
   ]
  },
  {
   "cell_type": "code",
   "execution_count": 88,
   "id": "8931765e",
   "metadata": {},
   "outputs": [],
   "source": [
    "train_data3 = pd.read_csv('train_data/train_task_3_4.csv')\n",
    "metadata_a = pd.read_csv('metadata/answer_metadata_task_3_4.csv')\n",
    "metadata_s = pd.read_csv('metadata/student_metadata_task_3_4.csv')\n",
    "metadata_q = pd.read_csv('metadata/question_metadata_task_3_4.csv')"
   ]
  },
  {
   "cell_type": "code",
   "execution_count": 92,
   "id": "455e8438",
   "metadata": {},
   "outputs": [
    {
     "data": {
      "text/plain": [
       "Index(['AnswerId', 'DateAnswered', 'Confidence', 'GroupId', 'QuizId',\n",
       "       'SchemeOfWorkId'],\n",
       "      dtype='object')"
      ]
     },
     "execution_count": 92,
     "metadata": {},
     "output_type": "execute_result"
    }
   ],
   "source": [
    "metadata_a.head()\n",
    "metadata_a.columns"
   ]
  },
  {
   "cell_type": "code",
   "execution_count": 94,
   "id": "8e131d15",
   "metadata": {},
   "outputs": [
    {
     "data": {
      "text/plain": [
       "Index(['UserId', 'Gender', 'DateOfBirth', 'PremiumPupil'], dtype='object')"
      ]
     },
     "execution_count": 94,
     "metadata": {},
     "output_type": "execute_result"
    }
   ],
   "source": [
    "metadata_s.head()\n",
    "metadata_s.columns"
   ]
  },
  {
   "cell_type": "code",
   "execution_count": 95,
   "id": "1e024a21",
   "metadata": {},
   "outputs": [
    {
     "data": {
      "text/plain": [
       "Index(['QuestionId', 'SubjectId'], dtype='object')"
      ]
     },
     "execution_count": 95,
     "metadata": {},
     "output_type": "execute_result"
    }
   ],
   "source": [
    "metadata_q.columns"
   ]
  },
  {
   "cell_type": "code",
   "execution_count": 107,
   "id": "fb9b36c1",
   "metadata": {},
   "outputs": [],
   "source": [
    "# Merge student metadata\n",
    "train_data3 = pd.merge(train_data, metadata_s, on='UserId', how='left')\n",
    "\n",
    "# Merge question metadata\n",
    "train_data3 = pd.merge(train_data, metadata_q, on='QuestionId', how='left')\n",
    "\n",
    "# Merge answer metadata\n",
    "train_data3 = pd.merge(train_data, metadata_a, on='AnswerId', how='left')"
   ]
  },
  {
   "cell_type": "code",
   "execution_count": 108,
   "id": "0de38205",
   "metadata": {},
   "outputs": [
    {
     "name": "stdout",
     "output_type": "stream",
     "text": [
      "<class 'pandas.core.frame.DataFrame'>\n",
      "Int64Index: 727345 entries, 0 to 727344\n",
      "Data columns (total 20 columns):\n",
      " #   Column            Non-Null Count   Dtype  \n",
      "---  ------            --------------   -----  \n",
      " 0   QuestionId        727345 non-null  int64  \n",
      " 1   UserId            727345 non-null  int64  \n",
      " 2   AnswerId          727345 non-null  int64  \n",
      " 3   IsCorrect         727345 non-null  int64  \n",
      " 4   CorrectAnswer     727345 non-null  int64  \n",
      " 5   AnswerValue       727345 non-null  int64  \n",
      " 6   Gender            727345 non-null  int64  \n",
      " 7   DateOfBirth       727345 non-null  object \n",
      " 8   PremiumPupil      727345 non-null  float64\n",
      " 9   SubjectId         727345 non-null  object \n",
      " 10  DateAnswered_x    727345 non-null  object \n",
      " 11  Confidence_x      180280 non-null  float64\n",
      " 12  GroupId_x         727345 non-null  int64  \n",
      " 13  QuizId_x          727345 non-null  int64  \n",
      " 14  SchemeOfWorkId_x  663548 non-null  float64\n",
      " 15  DateAnswered_y    727345 non-null  object \n",
      " 16  Confidence_y      180280 non-null  float64\n",
      " 17  GroupId_y         727345 non-null  int64  \n",
      " 18  QuizId_y          727345 non-null  int64  \n",
      " 19  SchemeOfWorkId_y  663548 non-null  float64\n",
      "dtypes: float64(5), int64(11), object(4)\n",
      "memory usage: 116.5+ MB\n"
     ]
    }
   ],
   "source": [
    "train_data3.info()"
   ]
  },
  {
   "cell_type": "code",
   "execution_count": 109,
   "id": "a642b8ac",
   "metadata": {},
   "outputs": [],
   "source": [
    "train_data3['DateOfBirth'] = pd.to_datetime(train_data3['DateOfBirth'])\n",
    "train_data3['DateAnswered_x'] = pd.to_datetime(train_data3['DateAnswered_x'])\n",
    "train_data3['DateAnswered_y'] = pd.to_datetime(train_data3['DateAnswered_y'])"
   ]
  },
  {
   "cell_type": "code",
   "execution_count": 110,
   "id": "b89122c4",
   "metadata": {},
   "outputs": [],
   "source": [
    "train_data3['PremiumPupil'] = train_data3['PremiumPupil'].fillna(0)\n",
    "\n",
    "# Drop rows with missing values in DateOfBirth column\n",
    "train_data3 = train_data3.dropna(subset=['DateOfBirth'])"
   ]
  },
  {
   "cell_type": "code",
   "execution_count": 111,
   "id": "11f8e09c",
   "metadata": {},
   "outputs": [],
   "source": [
    "from sklearn.preprocessing import LabelEncoder\n",
    "\n",
    "label_encoder = LabelEncoder()\n",
    "train_data3['SubjectId'] = label_encoder.fit_transform(train_data3['SubjectId'])"
   ]
  },
  {
   "cell_type": "code",
   "execution_count": 112,
   "id": "4a777600",
   "metadata": {},
   "outputs": [],
   "source": [
    "train_data3 = train_data3.drop(['DateAnswered_x', 'DateAnswered_y'], axis=1)\n",
    "train_data3['Gender'] = train_data3['Gender'].astype('category')"
   ]
  },
  {
   "cell_type": "code",
   "execution_count": 113,
   "id": "c3c357f1",
   "metadata": {},
   "outputs": [],
   "source": [
    "train_data3['GroupId_y'] = train_data3['GroupId_y'].astype(str)\n",
    "train_data3['QuizId_y'] = train_data3['QuizId_y'].astype(str)"
   ]
  },
  {
   "cell_type": "code",
   "execution_count": 114,
   "id": "5a6002e6",
   "metadata": {},
   "outputs": [
    {
     "name": "stdout",
     "output_type": "stream",
     "text": [
      "<class 'pandas.core.frame.DataFrame'>\n",
      "Int64Index: 727345 entries, 0 to 727344\n",
      "Data columns (total 18 columns):\n",
      " #   Column            Non-Null Count   Dtype         \n",
      "---  ------            --------------   -----         \n",
      " 0   QuestionId        727345 non-null  int64         \n",
      " 1   UserId            727345 non-null  int64         \n",
      " 2   AnswerId          727345 non-null  int64         \n",
      " 3   IsCorrect         727345 non-null  int64         \n",
      " 4   CorrectAnswer     727345 non-null  int64         \n",
      " 5   AnswerValue       727345 non-null  int64         \n",
      " 6   Gender            727345 non-null  category      \n",
      " 7   DateOfBirth       727345 non-null  datetime64[ns]\n",
      " 8   PremiumPupil      727345 non-null  float64       \n",
      " 9   SubjectId         727345 non-null  int32         \n",
      " 10  Confidence_x      180280 non-null  float64       \n",
      " 11  GroupId_x         727345 non-null  int64         \n",
      " 12  QuizId_x          727345 non-null  int64         \n",
      " 13  SchemeOfWorkId_x  663548 non-null  float64       \n",
      " 14  Confidence_y      180280 non-null  float64       \n",
      " 15  GroupId_y         727345 non-null  object        \n",
      " 16  QuizId_y          727345 non-null  object        \n",
      " 17  SchemeOfWorkId_y  663548 non-null  float64       \n",
      "dtypes: category(1), datetime64[ns](1), float64(5), int32(1), int64(8), object(2)\n",
      "memory usage: 97.8+ MB\n"
     ]
    }
   ],
   "source": [
    "train_data3.info()"
   ]
  },
  {
   "cell_type": "code",
   "execution_count": 115,
   "id": "89b6c505",
   "metadata": {},
   "outputs": [],
   "source": [
    "correlation_matrix = train_data3.corr()\n",
    "correlation_with_target = correlation_matrix['IsCorrect'].sort_values(ascending=False)"
   ]
  },
  {
   "cell_type": "code",
   "execution_count": 122,
   "id": "14dd4f3c",
   "metadata": {},
   "outputs": [
    {
     "data": {
      "text/html": [
       "<div>\n",
       "<style scoped>\n",
       "    .dataframe tbody tr th:only-of-type {\n",
       "        vertical-align: middle;\n",
       "    }\n",
       "\n",
       "    .dataframe tbody tr th {\n",
       "        vertical-align: top;\n",
       "    }\n",
       "\n",
       "    .dataframe thead th {\n",
       "        text-align: right;\n",
       "    }\n",
       "</style>\n",
       "<table border=\"1\" class=\"dataframe\">\n",
       "  <thead>\n",
       "    <tr style=\"text-align: right;\">\n",
       "      <th></th>\n",
       "      <th>QuestionId</th>\n",
       "      <th>UserId</th>\n",
       "      <th>AnswerId</th>\n",
       "      <th>IsCorrect</th>\n",
       "      <th>CorrectAnswer</th>\n",
       "      <th>AnswerValue</th>\n",
       "      <th>PremiumPupil</th>\n",
       "      <th>SubjectId</th>\n",
       "      <th>Confidence_x</th>\n",
       "      <th>GroupId_x</th>\n",
       "      <th>QuizId_x</th>\n",
       "      <th>SchemeOfWorkId_x</th>\n",
       "      <th>Confidence_y</th>\n",
       "      <th>SchemeOfWorkId_y</th>\n",
       "    </tr>\n",
       "  </thead>\n",
       "  <tbody>\n",
       "    <tr>\n",
       "      <th>QuestionId</th>\n",
       "      <td>1.000000</td>\n",
       "      <td>-0.000285</td>\n",
       "      <td>0.000312</td>\n",
       "      <td>0.028102</td>\n",
       "      <td>0.019836</td>\n",
       "      <td>0.012379</td>\n",
       "      <td>-0.000362</td>\n",
       "      <td>-0.016474</td>\n",
       "      <td>0.016173</td>\n",
       "      <td>0.000493</td>\n",
       "      <td>-0.027963</td>\n",
       "      <td>-0.003399</td>\n",
       "      <td>0.016173</td>\n",
       "      <td>-0.003399</td>\n",
       "    </tr>\n",
       "    <tr>\n",
       "      <th>UserId</th>\n",
       "      <td>-0.000285</td>\n",
       "      <td>1.000000</td>\n",
       "      <td>0.001468</td>\n",
       "      <td>-0.000755</td>\n",
       "      <td>0.001337</td>\n",
       "      <td>-0.001833</td>\n",
       "      <td>0.044314</td>\n",
       "      <td>0.003826</td>\n",
       "      <td>0.026789</td>\n",
       "      <td>0.032963</td>\n",
       "      <td>0.003014</td>\n",
       "      <td>-0.002100</td>\n",
       "      <td>0.026789</td>\n",
       "      <td>-0.002100</td>\n",
       "    </tr>\n",
       "    <tr>\n",
       "      <th>AnswerId</th>\n",
       "      <td>0.000312</td>\n",
       "      <td>0.001468</td>\n",
       "      <td>1.000000</td>\n",
       "      <td>-0.000611</td>\n",
       "      <td>-0.000492</td>\n",
       "      <td>0.000527</td>\n",
       "      <td>0.000481</td>\n",
       "      <td>0.001368</td>\n",
       "      <td>0.001766</td>\n",
       "      <td>0.000406</td>\n",
       "      <td>-0.000144</td>\n",
       "      <td>0.001481</td>\n",
       "      <td>0.001766</td>\n",
       "      <td>0.001481</td>\n",
       "    </tr>\n",
       "    <tr>\n",
       "      <th>IsCorrect</th>\n",
       "      <td>0.028102</td>\n",
       "      <td>-0.000755</td>\n",
       "      <td>-0.000611</td>\n",
       "      <td>1.000000</td>\n",
       "      <td>0.003498</td>\n",
       "      <td>-0.054820</td>\n",
       "      <td>-0.093184</td>\n",
       "      <td>-0.031186</td>\n",
       "      <td>0.267186</td>\n",
       "      <td>0.024746</td>\n",
       "      <td>-0.022500</td>\n",
       "      <td>-0.001052</td>\n",
       "      <td>0.267186</td>\n",
       "      <td>-0.001052</td>\n",
       "    </tr>\n",
       "    <tr>\n",
       "      <th>CorrectAnswer</th>\n",
       "      <td>0.019836</td>\n",
       "      <td>0.001337</td>\n",
       "      <td>-0.000492</td>\n",
       "      <td>0.003498</td>\n",
       "      <td>1.000000</td>\n",
       "      <td>0.363604</td>\n",
       "      <td>-0.000076</td>\n",
       "      <td>0.060438</td>\n",
       "      <td>0.003359</td>\n",
       "      <td>-0.003358</td>\n",
       "      <td>-0.006776</td>\n",
       "      <td>-0.002514</td>\n",
       "      <td>0.003359</td>\n",
       "      <td>-0.002514</td>\n",
       "    </tr>\n",
       "    <tr>\n",
       "      <th>AnswerValue</th>\n",
       "      <td>0.012379</td>\n",
       "      <td>-0.001833</td>\n",
       "      <td>0.000527</td>\n",
       "      <td>-0.054820</td>\n",
       "      <td>0.363604</td>\n",
       "      <td>1.000000</td>\n",
       "      <td>0.013177</td>\n",
       "      <td>0.009400</td>\n",
       "      <td>-0.020900</td>\n",
       "      <td>-0.001760</td>\n",
       "      <td>0.002235</td>\n",
       "      <td>-0.000334</td>\n",
       "      <td>-0.020900</td>\n",
       "      <td>-0.000334</td>\n",
       "    </tr>\n",
       "    <tr>\n",
       "      <th>PremiumPupil</th>\n",
       "      <td>-0.000362</td>\n",
       "      <td>0.044314</td>\n",
       "      <td>0.000481</td>\n",
       "      <td>-0.093184</td>\n",
       "      <td>-0.000076</td>\n",
       "      <td>0.013177</td>\n",
       "      <td>1.000000</td>\n",
       "      <td>-0.007377</td>\n",
       "      <td>-0.078260</td>\n",
       "      <td>-0.089415</td>\n",
       "      <td>-0.000417</td>\n",
       "      <td>-0.001858</td>\n",
       "      <td>-0.078260</td>\n",
       "      <td>-0.001858</td>\n",
       "    </tr>\n",
       "    <tr>\n",
       "      <th>SubjectId</th>\n",
       "      <td>-0.016474</td>\n",
       "      <td>0.003826</td>\n",
       "      <td>0.001368</td>\n",
       "      <td>-0.031186</td>\n",
       "      <td>0.060438</td>\n",
       "      <td>0.009400</td>\n",
       "      <td>-0.007377</td>\n",
       "      <td>1.000000</td>\n",
       "      <td>0.040314</td>\n",
       "      <td>-0.031120</td>\n",
       "      <td>0.242265</td>\n",
       "      <td>0.003791</td>\n",
       "      <td>0.040314</td>\n",
       "      <td>0.003791</td>\n",
       "    </tr>\n",
       "    <tr>\n",
       "      <th>Confidence_x</th>\n",
       "      <td>0.016173</td>\n",
       "      <td>0.026789</td>\n",
       "      <td>0.001766</td>\n",
       "      <td>0.267186</td>\n",
       "      <td>0.003359</td>\n",
       "      <td>-0.020900</td>\n",
       "      <td>-0.078260</td>\n",
       "      <td>0.040314</td>\n",
       "      <td>1.000000</td>\n",
       "      <td>-0.000006</td>\n",
       "      <td>0.024572</td>\n",
       "      <td>NaN</td>\n",
       "      <td>1.000000</td>\n",
       "      <td>NaN</td>\n",
       "    </tr>\n",
       "    <tr>\n",
       "      <th>GroupId_x</th>\n",
       "      <td>0.000493</td>\n",
       "      <td>0.032963</td>\n",
       "      <td>0.000406</td>\n",
       "      <td>0.024746</td>\n",
       "      <td>-0.003358</td>\n",
       "      <td>-0.001760</td>\n",
       "      <td>-0.089415</td>\n",
       "      <td>-0.031120</td>\n",
       "      <td>-0.000006</td>\n",
       "      <td>1.000000</td>\n",
       "      <td>0.023945</td>\n",
       "      <td>-0.002461</td>\n",
       "      <td>-0.000006</td>\n",
       "      <td>-0.002461</td>\n",
       "    </tr>\n",
       "    <tr>\n",
       "      <th>QuizId_x</th>\n",
       "      <td>-0.027963</td>\n",
       "      <td>0.003014</td>\n",
       "      <td>-0.000144</td>\n",
       "      <td>-0.022500</td>\n",
       "      <td>-0.006776</td>\n",
       "      <td>0.002235</td>\n",
       "      <td>-0.000417</td>\n",
       "      <td>0.242265</td>\n",
       "      <td>0.024572</td>\n",
       "      <td>0.023945</td>\n",
       "      <td>1.000000</td>\n",
       "      <td>-0.002012</td>\n",
       "      <td>0.024572</td>\n",
       "      <td>-0.002012</td>\n",
       "    </tr>\n",
       "    <tr>\n",
       "      <th>SchemeOfWorkId_x</th>\n",
       "      <td>-0.003399</td>\n",
       "      <td>-0.002100</td>\n",
       "      <td>0.001481</td>\n",
       "      <td>-0.001052</td>\n",
       "      <td>-0.002514</td>\n",
       "      <td>-0.000334</td>\n",
       "      <td>-0.001858</td>\n",
       "      <td>0.003791</td>\n",
       "      <td>NaN</td>\n",
       "      <td>-0.002461</td>\n",
       "      <td>-0.002012</td>\n",
       "      <td>1.000000</td>\n",
       "      <td>NaN</td>\n",
       "      <td>1.000000</td>\n",
       "    </tr>\n",
       "    <tr>\n",
       "      <th>Confidence_y</th>\n",
       "      <td>0.016173</td>\n",
       "      <td>0.026789</td>\n",
       "      <td>0.001766</td>\n",
       "      <td>0.267186</td>\n",
       "      <td>0.003359</td>\n",
       "      <td>-0.020900</td>\n",
       "      <td>-0.078260</td>\n",
       "      <td>0.040314</td>\n",
       "      <td>1.000000</td>\n",
       "      <td>-0.000006</td>\n",
       "      <td>0.024572</td>\n",
       "      <td>NaN</td>\n",
       "      <td>1.000000</td>\n",
       "      <td>NaN</td>\n",
       "    </tr>\n",
       "    <tr>\n",
       "      <th>SchemeOfWorkId_y</th>\n",
       "      <td>-0.003399</td>\n",
       "      <td>-0.002100</td>\n",
       "      <td>0.001481</td>\n",
       "      <td>-0.001052</td>\n",
       "      <td>-0.002514</td>\n",
       "      <td>-0.000334</td>\n",
       "      <td>-0.001858</td>\n",
       "      <td>0.003791</td>\n",
       "      <td>NaN</td>\n",
       "      <td>-0.002461</td>\n",
       "      <td>-0.002012</td>\n",
       "      <td>1.000000</td>\n",
       "      <td>NaN</td>\n",
       "      <td>1.000000</td>\n",
       "    </tr>\n",
       "  </tbody>\n",
       "</table>\n",
       "</div>"
      ],
      "text/plain": [
       "                  QuestionId    UserId  AnswerId  IsCorrect  CorrectAnswer  \\\n",
       "QuestionId          1.000000 -0.000285  0.000312   0.028102       0.019836   \n",
       "UserId             -0.000285  1.000000  0.001468  -0.000755       0.001337   \n",
       "AnswerId            0.000312  0.001468  1.000000  -0.000611      -0.000492   \n",
       "IsCorrect           0.028102 -0.000755 -0.000611   1.000000       0.003498   \n",
       "CorrectAnswer       0.019836  0.001337 -0.000492   0.003498       1.000000   \n",
       "AnswerValue         0.012379 -0.001833  0.000527  -0.054820       0.363604   \n",
       "PremiumPupil       -0.000362  0.044314  0.000481  -0.093184      -0.000076   \n",
       "SubjectId          -0.016474  0.003826  0.001368  -0.031186       0.060438   \n",
       "Confidence_x        0.016173  0.026789  0.001766   0.267186       0.003359   \n",
       "GroupId_x           0.000493  0.032963  0.000406   0.024746      -0.003358   \n",
       "QuizId_x           -0.027963  0.003014 -0.000144  -0.022500      -0.006776   \n",
       "SchemeOfWorkId_x   -0.003399 -0.002100  0.001481  -0.001052      -0.002514   \n",
       "Confidence_y        0.016173  0.026789  0.001766   0.267186       0.003359   \n",
       "SchemeOfWorkId_y   -0.003399 -0.002100  0.001481  -0.001052      -0.002514   \n",
       "\n",
       "                  AnswerValue  PremiumPupil  SubjectId  Confidence_x  \\\n",
       "QuestionId           0.012379     -0.000362  -0.016474      0.016173   \n",
       "UserId              -0.001833      0.044314   0.003826      0.026789   \n",
       "AnswerId             0.000527      0.000481   0.001368      0.001766   \n",
       "IsCorrect           -0.054820     -0.093184  -0.031186      0.267186   \n",
       "CorrectAnswer        0.363604     -0.000076   0.060438      0.003359   \n",
       "AnswerValue          1.000000      0.013177   0.009400     -0.020900   \n",
       "PremiumPupil         0.013177      1.000000  -0.007377     -0.078260   \n",
       "SubjectId            0.009400     -0.007377   1.000000      0.040314   \n",
       "Confidence_x        -0.020900     -0.078260   0.040314      1.000000   \n",
       "GroupId_x           -0.001760     -0.089415  -0.031120     -0.000006   \n",
       "QuizId_x             0.002235     -0.000417   0.242265      0.024572   \n",
       "SchemeOfWorkId_x    -0.000334     -0.001858   0.003791           NaN   \n",
       "Confidence_y        -0.020900     -0.078260   0.040314      1.000000   \n",
       "SchemeOfWorkId_y    -0.000334     -0.001858   0.003791           NaN   \n",
       "\n",
       "                  GroupId_x  QuizId_x  SchemeOfWorkId_x  Confidence_y  \\\n",
       "QuestionId         0.000493 -0.027963         -0.003399      0.016173   \n",
       "UserId             0.032963  0.003014         -0.002100      0.026789   \n",
       "AnswerId           0.000406 -0.000144          0.001481      0.001766   \n",
       "IsCorrect          0.024746 -0.022500         -0.001052      0.267186   \n",
       "CorrectAnswer     -0.003358 -0.006776         -0.002514      0.003359   \n",
       "AnswerValue       -0.001760  0.002235         -0.000334     -0.020900   \n",
       "PremiumPupil      -0.089415 -0.000417         -0.001858     -0.078260   \n",
       "SubjectId         -0.031120  0.242265          0.003791      0.040314   \n",
       "Confidence_x      -0.000006  0.024572               NaN      1.000000   \n",
       "GroupId_x          1.000000  0.023945         -0.002461     -0.000006   \n",
       "QuizId_x           0.023945  1.000000         -0.002012      0.024572   \n",
       "SchemeOfWorkId_x  -0.002461 -0.002012          1.000000           NaN   \n",
       "Confidence_y      -0.000006  0.024572               NaN      1.000000   \n",
       "SchemeOfWorkId_y  -0.002461 -0.002012          1.000000           NaN   \n",
       "\n",
       "                  SchemeOfWorkId_y  \n",
       "QuestionId               -0.003399  \n",
       "UserId                   -0.002100  \n",
       "AnswerId                  0.001481  \n",
       "IsCorrect                -0.001052  \n",
       "CorrectAnswer            -0.002514  \n",
       "AnswerValue              -0.000334  \n",
       "PremiumPupil             -0.001858  \n",
       "SubjectId                 0.003791  \n",
       "Confidence_x                   NaN  \n",
       "GroupId_x                -0.002461  \n",
       "QuizId_x                 -0.002012  \n",
       "SchemeOfWorkId_x          1.000000  \n",
       "Confidence_y                   NaN  \n",
       "SchemeOfWorkId_y          1.000000  "
      ]
     },
     "execution_count": 122,
     "metadata": {},
     "output_type": "execute_result"
    }
   ],
   "source": [
    "correlation_matrix"
   ]
  },
  {
   "cell_type": "code",
   "execution_count": 116,
   "id": "f1466b7c",
   "metadata": {},
   "outputs": [
    {
     "data": {
      "image/png": "[encoded data removed]",
      "text/plain": [
       "<Figure size 720x576 with 2 Axes>"
      ]
     },
     "metadata": {
      "needs_background": "light"
     },
     "output_type": "display_data"
    }
   ],
   "source": [
    "import seaborn as sns\n",
    "import matplotlib.pyplot as plt\n",
    "\n",
    "plt.figure(figsize=(10, 8))\n",
    "sns.heatmap(correlation_matrix, annot=True, cmap='coolwarm')\n",
    "plt.title('Correlation Heatmap')\n",
    "plt.show()\n"
   ]
  },
  {
   "cell_type": "code",
   "execution_count": 167,
   "id": "90d920de",
   "metadata": {},
   "outputs": [
    {
     "name": "stdout",
     "output_type": "stream",
     "text": [
      "25\n"
     ]
    },
    {
     "data": {
      "text/html": [
       "<div>\n",
       "<style scoped>\n",
       "    .dataframe tbody tr th:only-of-type {\n",
       "        vertical-align: middle;\n",
       "    }\n",
       "\n",
       "    .dataframe tbody tr th {\n",
       "        vertical-align: top;\n",
       "    }\n",
       "\n",
       "    .dataframe thead th {\n",
       "        text-align: right;\n",
       "    }\n",
       "</style>\n",
       "<table border=\"1\" class=\"dataframe\">\n",
       "  <thead>\n",
       "    <tr style=\"text-align: right;\">\n",
       "      <th></th>\n",
       "      <th>Unnamed: 0</th>\n",
       "      <th>Unnamed: 0.1</th>\n",
       "      <th>left</th>\n",
       "      <th>right</th>\n",
       "      <th>T1_ALR</th>\n",
       "      <th>T2_CL</th>\n",
       "      <th>T3_GF</th>\n",
       "      <th>T4_MQ</th>\n",
       "      <th>T5_NS</th>\n",
       "    </tr>\n",
       "  </thead>\n",
       "  <tbody>\n",
       "    <tr>\n",
       "      <th>0</th>\n",
       "      <td>0</td>\n",
       "      <td>0</td>\n",
       "      <td>909</td>\n",
       "      <td>318</td>\n",
       "      <td>2</td>\n",
       "      <td>2</td>\n",
       "      <td>2</td>\n",
       "      <td>1.0</td>\n",
       "      <td>2</td>\n",
       "    </tr>\n",
       "    <tr>\n",
       "      <th>1</th>\n",
       "      <td>16</td>\n",
       "      <td>16</td>\n",
       "      <td>285</td>\n",
       "      <td>609</td>\n",
       "      <td>2</td>\n",
       "      <td>2</td>\n",
       "      <td>2</td>\n",
       "      <td>2.0</td>\n",
       "      <td>2</td>\n",
       "    </tr>\n",
       "    <tr>\n",
       "      <th>2</th>\n",
       "      <td>48</td>\n",
       "      <td>48</td>\n",
       "      <td>132</td>\n",
       "      <td>271</td>\n",
       "      <td>1</td>\n",
       "      <td>2</td>\n",
       "      <td>2</td>\n",
       "      <td>2.0</td>\n",
       "      <td>1</td>\n",
       "    </tr>\n",
       "    <tr>\n",
       "      <th>3</th>\n",
       "      <td>38</td>\n",
       "      <td>38</td>\n",
       "      <td>704</td>\n",
       "      <td>127</td>\n",
       "      <td>2</td>\n",
       "      <td>2</td>\n",
       "      <td>1</td>\n",
       "      <td>2.0</td>\n",
       "      <td>2</td>\n",
       "    </tr>\n",
       "    <tr>\n",
       "      <th>4</th>\n",
       "      <td>33</td>\n",
       "      <td>33</td>\n",
       "      <td>16</td>\n",
       "      <td>586</td>\n",
       "      <td>1</td>\n",
       "      <td>1</td>\n",
       "      <td>2</td>\n",
       "      <td>2.0</td>\n",
       "      <td>2</td>\n",
       "    </tr>\n",
       "  </tbody>\n",
       "</table>\n",
       "</div>"
      ],
      "text/plain": [
       "   Unnamed: 0  Unnamed: 0.1  left  right  T1_ALR  T2_CL  T3_GF  T4_MQ  T5_NS\n",
       "0           0             0   909    318       2      2      2    1.0      2\n",
       "1          16            16   285    609       2      2      2    2.0      2\n",
       "2          48            48   132    271       1      2      2    2.0      1\n",
       "3          38            38   704    127       2      2      1    2.0      2\n",
       "4          33            33    16    586       1      1      2    2.0      2"
      ]
     },
     "execution_count": 167,
     "metadata": {},
     "output_type": "execute_result"
    }
   ],
   "source": [
    "# load evaluators' score on \"validation\" set\n",
    "eval_validation = pd.read_csv('test_data/quality_response_remapped_public.csv')\n",
    "print(len(eval_validation))\n",
    "eval_validation.head()"
   ]
  },
  {
   "cell_type": "code",
   "execution_count": null,
   "id": "711ee04a",
   "metadata": {},
   "outputs": [],
   "source": [
    "correlation_matrix2 = eval_validation.corr()\n",
    "correlation_with_target = correlation_matrix['IsCorrect'].sort_values(ascending=False)"
   ]
  },
  {
   "cell_type": "code",
   "execution_count": 199,
   "id": "8e1565e0",
   "metadata": {},
   "outputs": [
    {
     "name": "stdout",
     "output_type": "stream",
     "text": [
      "<class 'pandas.core.frame.DataFrame'>\n",
      "RangeIndex: 25 entries, 0 to 24\n",
      "Data columns (total 11 columns):\n",
      " #   Column        Non-Null Count  Dtype  \n",
      "---  ------        --------------  -----  \n",
      " 0   Unnamed: 0    25 non-null     int64  \n",
      " 1   Unnamed: 0.1  25 non-null     int64  \n",
      " 2   left          25 non-null     int64  \n",
      " 3   right         25 non-null     int64  \n",
      " 4   T1_ALR        25 non-null     int64  \n",
      " 5   T2_CL         25 non-null     int64  \n",
      " 6   T3_GF         25 non-null     int64  \n",
      " 7   T4_MQ         25 non-null     float64\n",
      " 8   T5_NS         25 non-null     int64  \n",
      " 9   score         25 non-null     float64\n",
      " 10  preference    25 non-null     int32  \n",
      "dtypes: float64(2), int32(1), int64(8)\n",
      "memory usage: 2.2 KB\n"
     ]
    },
    {
     "data": {
      "image/png": "[encoded data removed]",
      "text/plain": [
       "<Figure size 432x288 with 1 Axes>"
      ]
     },
     "metadata": {
      "needs_background": "light"
     },
     "output_type": "display_data"
    }
   ],
   "source": [
    "# take the average of 5 evaulators` scores\n",
    "eval_validation['score'] = eval_validation.filter(regex='^T', axis = 1).mean(axis=1)\n",
    "eval_validation['score'].hist()\n",
    "eval_validation.info()"
   ]
  },
  {
   "cell_type": "code",
   "execution_count": 176,
   "id": "ceca7d3f",
   "metadata": {},
   "outputs": [
    {
     "data": {
      "text/plain": [
       "<AxesSubplot:>"
      ]
     },
     "execution_count": 176,
     "metadata": {},
     "output_type": "execute_result"
    },
    {
     "data": {
      "image/png": "[encoded data removed]",
      "text/plain": [
       "<Figure size 432x288 with 1 Axes>"
      ]
     },
     "metadata": {
      "needs_background": "light"
     },
     "output_type": "display_data"
    }
   ],
   "source": [
    "# decide preference\n",
    "import numpy as np\n",
    "def calc_preference(scores):\n",
    "    preference = np.ones(len(scores), dtype=int)\n",
    "\n",
    "    idx_two = scores > 1.5\n",
    "    preference[idx_two] = 2\n",
    "    a = list(preference)\n",
    "    return list(preference)\n",
    "\n",
    "eval_validation['preference'] = calc_preference(eval_validation['score'])\n",
    "eval_validation['preference'].hist()"
   ]
  },
  {
   "cell_type": "code",
   "execution_count": 178,
   "id": "21523f15",
   "metadata": {},
   "outputs": [
    {
     "name": "stdout",
     "output_type": "stream",
     "text": [
      "                                     0\n",
      "QuestionId       QuestionId        1.0\n",
      "AnswerId         AnswerId          1.0\n",
      "SchemeOfWorkId_y SchemeOfWorkId_x  1.0\n",
      "Confidence_y     Confidence_y      1.0\n",
      "                 Confidence_x      1.0\n",
      "...                                ...\n",
      "SchemeOfWorkId_x Confidence_y      NaN\n",
      "Confidence_y     SchemeOfWorkId_x  NaN\n",
      "                 SchemeOfWorkId_y  NaN\n",
      "SchemeOfWorkId_y Confidence_x      NaN\n",
      "                 Confidence_y      NaN\n",
      "\n",
      "[196 rows x 1 columns]\n"
     ]
    }
   ],
   "source": [
    "print(a)"
   ]
  },
  {
   "cell_type": "code",
   "execution_count": 15,
   "id": "ec1de444",
   "metadata": {},
   "outputs": [
    {
     "name": "stdout",
     "output_type": "stream",
     "text": [
      "25\n"
     ]
    },
    {
     "data": {
      "text/html": [
       "<div>\n",
       "<style scoped>\n",
       "    .dataframe tbody tr th:only-of-type {\n",
       "        vertical-align: middle;\n",
       "    }\n",
       "\n",
       "    .dataframe tbody tr th {\n",
       "        vertical-align: top;\n",
       "    }\n",
       "\n",
       "    .dataframe thead th {\n",
       "        text-align: right;\n",
       "    }\n",
       "</style>\n",
       "<table border=\"1\" class=\"dataframe\">\n",
       "  <thead>\n",
       "    <tr style=\"text-align: right;\">\n",
       "      <th></th>\n",
       "      <th>Unnamed: 0</th>\n",
       "      <th>Unnamed: 0.1</th>\n",
       "      <th>left</th>\n",
       "      <th>right</th>\n",
       "      <th>T1_ALR</th>\n",
       "      <th>T2_CL</th>\n",
       "      <th>T3_GF</th>\n",
       "      <th>T4_MQ</th>\n",
       "      <th>T5_NS</th>\n",
       "    </tr>\n",
       "  </thead>\n",
       "  <tbody>\n",
       "    <tr>\n",
       "      <th>0</th>\n",
       "      <td>15</td>\n",
       "      <td>15</td>\n",
       "      <td>145</td>\n",
       "      <td>762</td>\n",
       "      <td>2</td>\n",
       "      <td>2</td>\n",
       "      <td>2</td>\n",
       "      <td>2.0</td>\n",
       "      <td>2</td>\n",
       "    </tr>\n",
       "    <tr>\n",
       "      <th>1</th>\n",
       "      <td>31</td>\n",
       "      <td>31</td>\n",
       "      <td>307</td>\n",
       "      <td>208</td>\n",
       "      <td>1</td>\n",
       "      <td>1</td>\n",
       "      <td>1</td>\n",
       "      <td>2.0</td>\n",
       "      <td>1</td>\n",
       "    </tr>\n",
       "    <tr>\n",
       "      <th>2</th>\n",
       "      <td>25</td>\n",
       "      <td>25</td>\n",
       "      <td>278</td>\n",
       "      <td>195</td>\n",
       "      <td>1</td>\n",
       "      <td>1</td>\n",
       "      <td>1</td>\n",
       "      <td>1.0</td>\n",
       "      <td>1</td>\n",
       "    </tr>\n",
       "    <tr>\n",
       "      <th>3</th>\n",
       "      <td>3</td>\n",
       "      <td>3</td>\n",
       "      <td>13</td>\n",
       "      <td>153</td>\n",
       "      <td>2</td>\n",
       "      <td>2</td>\n",
       "      <td>2</td>\n",
       "      <td>2.0</td>\n",
       "      <td>2</td>\n",
       "    </tr>\n",
       "    <tr>\n",
       "      <th>4</th>\n",
       "      <td>40</td>\n",
       "      <td>40</td>\n",
       "      <td>23</td>\n",
       "      <td>100</td>\n",
       "      <td>2</td>\n",
       "      <td>1</td>\n",
       "      <td>1</td>\n",
       "      <td>1.0</td>\n",
       "      <td>1</td>\n",
       "    </tr>\n",
       "  </tbody>\n",
       "</table>\n",
       "</div>"
      ],
      "text/plain": [
       "   Unnamed: 0  Unnamed: 0.1  left  right  T1_ALR  T2_CL  T3_GF  T4_MQ  T5_NS\n",
       "0          15            15   145    762       2      2      2    2.0      2\n",
       "1          31            31   307    208       1      1      1    2.0      1\n",
       "2          25            25   278    195       1      1      1    1.0      1\n",
       "3           3             3    13    153       2      2      2    2.0      2\n",
       "4          40            40    23    100       2      1      1    1.0      1"
      ]
     },
     "execution_count": 15,
     "metadata": {},
     "output_type": "execute_result"
    }
   ],
   "source": [
    "eval_test = pd.read_csv('test_data/quality_response_remapped_private.csv')\n",
    "print(len(eval_test))\n",
    "eval_test.head()"
   ]
  },
  {
   "cell_type": "code",
   "execution_count": 200,
   "id": "21294aa5",
   "metadata": {},
   "outputs": [
    {
     "name": "stdout",
     "output_type": "stream",
     "text": [
      "<class 'pandas.core.frame.DataFrame'>\n",
      "RangeIndex: 25 entries, 0 to 24\n",
      "Data columns (total 10 columns):\n",
      " #   Column        Non-Null Count  Dtype  \n",
      "---  ------        --------------  -----  \n",
      " 0   Unnamed: 0    25 non-null     int64  \n",
      " 1   Unnamed: 0.1  25 non-null     int64  \n",
      " 2   left          25 non-null     int64  \n",
      " 3   right         25 non-null     int64  \n",
      " 4   T1_ALR        25 non-null     int64  \n",
      " 5   T2_CL         25 non-null     int64  \n",
      " 6   T3_GF         25 non-null     int64  \n",
      " 7   T4_MQ         24 non-null     float64\n",
      " 8   T5_NS         25 non-null     int64  \n",
      " 9   score         25 non-null     float64\n",
      "dtypes: float64(2), int64(8)\n",
      "memory usage: 2.1 KB\n"
     ]
    },
    {
     "data": {
      "image/png": "[encoded data removed]",
      "text/plain": [
       "<Figure size 432x288 with 1 Axes>"
      ]
     },
     "metadata": {
      "needs_background": "light"
     },
     "output_type": "display_data"
    }
   ],
   "source": [
    "# take the average of scores by 5 evaulators\n",
    "eval_test['score'] = eval_test.filter(regex='^T', axis = 1).mean(axis=1)\n",
    "eval_test['score'].hist()\n",
    "eval_test.info()"
   ]
  },
  {
   "cell_type": "code",
   "execution_count": 179,
   "id": "e23d5e5b",
   "metadata": {},
   "outputs": [],
   "source": [
    "from itertools import combinations"
   ]
  },
  {
   "cell_type": "code",
   "execution_count": 180,
   "id": "45c2e84a",
   "metadata": {},
   "outputs": [
    {
     "data": {
      "text/html": [
       "<div>\n",
       "<style scoped>\n",
       "    .dataframe tbody tr th:only-of-type {\n",
       "        vertical-align: middle;\n",
       "    }\n",
       "\n",
       "    .dataframe tbody tr th {\n",
       "        vertical-align: top;\n",
       "    }\n",
       "\n",
       "    .dataframe thead th {\n",
       "        text-align: right;\n",
       "    }\n",
       "</style>\n",
       "<table border=\"1\" class=\"dataframe\">\n",
       "  <thead>\n",
       "    <tr style=\"text-align: right;\">\n",
       "      <th></th>\n",
       "      <th>QuestionId</th>\n",
       "      <th>UserId</th>\n",
       "      <th>AnswerId</th>\n",
       "      <th>IsCorrect</th>\n",
       "      <th>CorrectAnswer</th>\n",
       "      <th>AnswerValue</th>\n",
       "      <th>Gender</th>\n",
       "      <th>DateOfBirth</th>\n",
       "      <th>PremiumPupil</th>\n",
       "      <th>SubjectId</th>\n",
       "      <th>Confidence_x</th>\n",
       "      <th>GroupId_x</th>\n",
       "      <th>QuizId_x</th>\n",
       "      <th>SchemeOfWorkId_x</th>\n",
       "      <th>Confidence_y</th>\n",
       "      <th>GroupId_y</th>\n",
       "      <th>QuizId_y</th>\n",
       "      <th>SchemeOfWorkId_y</th>\n",
       "    </tr>\n",
       "  </thead>\n",
       "  <tbody>\n",
       "    <tr>\n",
       "      <th>0</th>\n",
       "      <td>898</td>\n",
       "      <td>2111</td>\n",
       "      <td>280203</td>\n",
       "      <td>1</td>\n",
       "      <td>2</td>\n",
       "      <td>2</td>\n",
       "      <td>2</td>\n",
       "      <td>2007-09-01</td>\n",
       "      <td>0.0</td>\n",
       "      <td>29</td>\n",
       "      <td>NaN</td>\n",
       "      <td>95</td>\n",
       "      <td>86</td>\n",
       "      <td>52562.0</td>\n",
       "      <td>NaN</td>\n",
       "      <td>95</td>\n",
       "      <td>86</td>\n",
       "      <td>52562.0</td>\n",
       "    </tr>\n",
       "    <tr>\n",
       "      <th>1</th>\n",
       "      <td>298</td>\n",
       "      <td>3912</td>\n",
       "      <td>578636</td>\n",
       "      <td>1</td>\n",
       "      <td>3</td>\n",
       "      <td>3</td>\n",
       "      <td>2</td>\n",
       "      <td>2008-04-01</td>\n",
       "      <td>0.0</td>\n",
       "      <td>40</td>\n",
       "      <td>NaN</td>\n",
       "      <td>314</td>\n",
       "      <td>78</td>\n",
       "      <td>52562.0</td>\n",
       "      <td>NaN</td>\n",
       "      <td>314</td>\n",
       "      <td>78</td>\n",
       "      <td>52562.0</td>\n",
       "    </tr>\n",
       "    <tr>\n",
       "      <th>2</th>\n",
       "      <td>134</td>\n",
       "      <td>5163</td>\n",
       "      <td>1042162</td>\n",
       "      <td>0</td>\n",
       "      <td>1</td>\n",
       "      <td>2</td>\n",
       "      <td>1</td>\n",
       "      <td>2008-07-01</td>\n",
       "      <td>0.0</td>\n",
       "      <td>22</td>\n",
       "      <td>NaN</td>\n",
       "      <td>163</td>\n",
       "      <td>46</td>\n",
       "      <td>52562.0</td>\n",
       "      <td>NaN</td>\n",
       "      <td>163</td>\n",
       "      <td>46</td>\n",
       "      <td>52562.0</td>\n",
       "    </tr>\n",
       "    <tr>\n",
       "      <th>3</th>\n",
       "      <td>840</td>\n",
       "      <td>3896</td>\n",
       "      <td>150788</td>\n",
       "      <td>0</td>\n",
       "      <td>1</td>\n",
       "      <td>2</td>\n",
       "      <td>2</td>\n",
       "      <td>2008-06-01</td>\n",
       "      <td>1.0</td>\n",
       "      <td>7</td>\n",
       "      <td>NaN</td>\n",
       "      <td>370</td>\n",
       "      <td>66</td>\n",
       "      <td>52562.0</td>\n",
       "      <td>NaN</td>\n",
       "      <td>370</td>\n",
       "      <td>66</td>\n",
       "      <td>52562.0</td>\n",
       "    </tr>\n",
       "    <tr>\n",
       "      <th>4</th>\n",
       "      <td>264</td>\n",
       "      <td>5047</td>\n",
       "      <td>67204</td>\n",
       "      <td>1</td>\n",
       "      <td>3</td>\n",
       "      <td>3</td>\n",
       "      <td>2</td>\n",
       "      <td>2007-12-01</td>\n",
       "      <td>0.0</td>\n",
       "      <td>55</td>\n",
       "      <td>NaN</td>\n",
       "      <td>254</td>\n",
       "      <td>105</td>\n",
       "      <td>52562.0</td>\n",
       "      <td>NaN</td>\n",
       "      <td>254</td>\n",
       "      <td>105</td>\n",
       "      <td>52562.0</td>\n",
       "    </tr>\n",
       "  </tbody>\n",
       "</table>\n",
       "</div>"
      ],
      "text/plain": [
       "   QuestionId  UserId  AnswerId  IsCorrect  CorrectAnswer  AnswerValue Gender  \\\n",
       "0         898    2111    280203          1              2            2      2   \n",
       "1         298    3912    578636          1              3            3      2   \n",
       "2         134    5163   1042162          0              1            2      1   \n",
       "3         840    3896    150788          0              1            2      2   \n",
       "4         264    5047     67204          1              3            3      2   \n",
       "\n",
       "  DateOfBirth  PremiumPupil  SubjectId  Confidence_x  GroupId_x  QuizId_x  \\\n",
       "0  2007-09-01           0.0         29           NaN         95        86   \n",
       "1  2008-04-01           0.0         40           NaN        314        78   \n",
       "2  2008-07-01           0.0         22           NaN        163        46   \n",
       "3  2008-06-01           1.0          7           NaN        370        66   \n",
       "4  2007-12-01           0.0         55           NaN        254       105   \n",
       "\n",
       "   SchemeOfWorkId_x  Confidence_y GroupId_y QuizId_y  SchemeOfWorkId_y  \n",
       "0           52562.0           NaN        95       86           52562.0  \n",
       "1           52562.0           NaN       314       78           52562.0  \n",
       "2           52562.0           NaN       163       46           52562.0  \n",
       "3           52562.0           NaN       370       66           52562.0  \n",
       "4           52562.0           NaN       254      105           52562.0  "
      ]
     },
     "execution_count": 180,
     "metadata": {},
     "output_type": "execute_result"
    }
   ],
   "source": [
    "train_data3.head()"
   ]
  },
  {
   "cell_type": "code",
   "execution_count": 182,
   "id": "aed84bb8",
   "metadata": {},
   "outputs": [
    {
     "data": {
      "text/plain": [
       "948"
      ]
     },
     "execution_count": 182,
     "metadata": {},
     "output_type": "execute_result"
    }
   ],
   "source": [
    "template = pd.read_csv('template.csv')\n",
    "len(template)"
   ]
  },
  {
   "cell_type": "code",
   "execution_count": 183,
   "id": "24f0f124",
   "metadata": {},
   "outputs": [
    {
     "data": {
      "text/html": [
       "<div>\n",
       "<style scoped>\n",
       "    .dataframe tbody tr th:only-of-type {\n",
       "        vertical-align: middle;\n",
       "    }\n",
       "\n",
       "    .dataframe tbody tr th {\n",
       "        vertical-align: top;\n",
       "    }\n",
       "\n",
       "    .dataframe thead th {\n",
       "        text-align: right;\n",
       "    }\n",
       "</style>\n",
       "<table border=\"1\" class=\"dataframe\">\n",
       "  <thead>\n",
       "    <tr style=\"text-align: right;\">\n",
       "      <th></th>\n",
       "      <th>QuestionId</th>\n",
       "      <th>Ranking</th>\n",
       "    </tr>\n",
       "  </thead>\n",
       "  <tbody>\n",
       "    <tr>\n",
       "      <th>0</th>\n",
       "      <td>0</td>\n",
       "      <td>NaN</td>\n",
       "    </tr>\n",
       "    <tr>\n",
       "      <th>1</th>\n",
       "      <td>1</td>\n",
       "      <td>NaN</td>\n",
       "    </tr>\n",
       "    <tr>\n",
       "      <th>2</th>\n",
       "      <td>2</td>\n",
       "      <td>NaN</td>\n",
       "    </tr>\n",
       "    <tr>\n",
       "      <th>3</th>\n",
       "      <td>3</td>\n",
       "      <td>NaN</td>\n",
       "    </tr>\n",
       "    <tr>\n",
       "      <th>4</th>\n",
       "      <td>4</td>\n",
       "      <td>NaN</td>\n",
       "    </tr>\n",
       "  </tbody>\n",
       "</table>\n",
       "</div>"
      ],
      "text/plain": [
       "   QuestionId  Ranking\n",
       "0           0      NaN\n",
       "1           1      NaN\n",
       "2           2      NaN\n",
       "3           3      NaN\n",
       "4           4      NaN"
      ]
     },
     "execution_count": 183,
     "metadata": {},
     "output_type": "execute_result"
    }
   ],
   "source": [
    "template.head()"
   ]
  },
  {
   "cell_type": "code",
   "execution_count": 184,
   "id": "58336a5d",
   "metadata": {},
   "outputs": [],
   "source": [
    "template['ranking'] = 1"
   ]
  },
  {
   "cell_type": "code",
   "execution_count": 188,
   "id": "09bec5b3",
   "metadata": {},
   "outputs": [],
   "source": [
    "df = pd.read_csv('train_data/train_task_3_4.csv')"
   ]
  },
  {
   "cell_type": "code",
   "execution_count": 189,
   "id": "5c58b753",
   "metadata": {},
   "outputs": [],
   "source": [
    "from sklearn.ensemble import RandomForestRegressor\n",
    "\n",
    "X_train = df.drop(['QuestionId', 'IsCorrect'], axis=1) \n",
    "y_train = df['IsCorrect']  \n"
   ]
  },
  {
   "cell_type": "code",
   "execution_count": null,
   "id": "bbd54037",
   "metadata": {},
   "outputs": [],
   "source": [
    "from sklearn.model_selection import GridSearchCV\n",
    "\n",
    "param_grid = {\n",
    "    'n_estimators': [200, 300],\n",
    "    'max_depth': [ 5, 10],\n",
    "    'min_samples_split': [ 5, 10]\n",
    "}\n",
    "# Create the RandomForestRegressor model\n",
    "model = RandomForestRegressor()\n",
    "\n",
    "# Perform Grid Search with cross-validation\n",
    "grid_search = GridSearchCV(estimator=model, param_grid=param_grid, cv=5)\n",
    "grid_search.fit(X_train, y_train)\n",
    "print(\"Best Parameters:\", grid_search.best_params_)\n",
    "print(\"Best Score:\", grid_search.best_score_)"
   ]
  },
  {
   "cell_type": "code",
   "execution_count": 194,
   "id": "b829357f",
   "metadata": {},
   "outputs": [
    {
     "data": {
      "text/plain": [
       "RandomForestRegressor()"
      ]
     },
     "execution_count": 194,
     "metadata": {},
     "output_type": "execute_result"
    }
   ],
   "source": [
    "model.fit(X_train, y_train)"
   ]
  },
  {
   "cell_type": "code",
   "execution_count": 196,
   "id": "ab460a89",
   "metadata": {},
   "outputs": [],
   "source": [
    "y_pred = model.predict(X_train)"
   ]
  },
  {
   "cell_type": "code",
   "execution_count": 197,
   "id": "5a7015c4",
   "metadata": {},
   "outputs": [
    {
     "data": {
      "text/plain": [
       "array([1.  , 1.  , 0.99, ..., 1.  , 0.  , 1.  ])"
      ]
     },
     "execution_count": 197,
     "metadata": {},
     "output_type": "execute_result"
    }
   ],
   "source": [
    "y_pred"
   ]
  },
  {
   "cell_type": "code",
   "execution_count": null,
   "id": "07f57d56",
   "metadata": {},
   "outputs": [],
   "source": [
    "submission_df = df[['QuestionId']].copy()\n",
    "submission_df['score'] = y_pred"
   ]
  },
  {
   "cell_type": "code",
   "execution_count": null,
   "id": "2e44444f",
   "metadata": {},
   "outputs": [],
   "source": [
    "submission_df.sort_values(by='score', ascending=False, inplace=True)\n",
    "submission_df.drop_duplicates(subset='QuestionId', keep='first', inplace=True)\n",
    "submission_df['rank'] = range(1, len(submission_df) + 1)"
   ]
  },
  {
   "cell_type": "code",
   "execution_count": 203,
   "id": "2cdf109a",
   "metadata": {},
   "outputs": [
    {
     "name": "stdout",
     "output_type": "stream",
     "text": [
      "        QuestionId     rank\n",
      "0              898        1\n",
      "695836         461        2\n",
      "695827         392        3\n",
      "695828         278        4\n",
      "695829         135        5\n",
      "...            ...      ...\n",
      "856673         560  1382723\n",
      "413968         193  1382724\n",
      "413967         565  1382725\n",
      "856676          46  1382726\n",
      "352386         276  1382727\n",
      "\n",
      "[1382727 rows x 2 columns]\n"
     ]
    }
   ],
   "source": [
    "submission_df = pd.duplicates\n",
    "print(submission_df[['QuestionId', 'rank']])"
   ]
  },
  {
   "cell_type": "code",
   "execution_count": null,
   "id": "618820d2",
   "metadata": {},
   "outputs": [],
   "source": [
    "def evaluate(truth, submission):\n",
    "    submission_preference = []\n",
    "    for idx, row in truth.iterrows():\n",
    "        left_question_id = row['left']\n",
    "        right_question_id = row['right']\n",
    "        left_rank = submission.loc[submission['QuestionId'] == left_question_id, 'rank'].values[0]\n",
    "        right_rank = submission.loc[submission['QuestionId'] == right_question_id, 'rank'].values[0]\n",
    "        \n",
    "        preference = 1 if left_rank < right_rank else 2\n",
    "        submission_preference.append(preference)\n",
    "    \n",
    "    return submission_preference"
   ]
  },
  {
   "cell_type": "code",
   "execution_count": null,
   "id": "cb44325a",
   "metadata": {},
   "outputs": [],
   "source": []
  }
 ],
 "metadata": {
  "kernelspec": {
   "display_name": "Python 3 (ipykernel)",
   "language": "python",
   "name": "python3"
  },
  "language_info": {
   "codemirror_mode": {
    "name": "ipython",
    "version": 3
   },
   "file_extension": ".py",
   "mimetype": "text/x-python",
   "name": "python",
   "nbconvert_exporter": "python",
   "pygments_lexer": "ipython3",
   "version": "3.9.7"
  }
 },
 "nbformat": 4,
 "nbformat_minor": 5
}
